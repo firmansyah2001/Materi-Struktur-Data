{
 "cells": [
  {
   "cell_type": "markdown",
   "id": "084c9ff8",
   "metadata": {},
   "source": [
    "# Pertemuan 1 Stack"
   ]
  },
  {
   "cell_type": "code",
   "execution_count": 1,
   "id": "1f1155ef",
   "metadata": {},
   "outputs": [],
   "source": [
    "# CODE STACK\n",
    "\n",
    "def stack(): #Code untuk memulai stack\n",
    "    s=[]\n",
    "    return(s)\n",
    "def push(s,data): # Untuk menambahkan data\n",
    "    s.append(data)\n",
    "def pop(s): # Untuk penghapusan data\n",
    "    data=s.pop()\n",
    "    return(data)\n",
    "def peek(s): # Informasi data yang terletak di pop\n",
    "    return(s[len(s)-1])\n",
    "def isEmpty(s): # Untuk memeriksa stack kosong atau tidak\n",
    "    return(s==[])\n",
    "def size(s): # Untuk memeriksa jumlah data\n",
    "    return(len(s))"
   ]
  },
  {
   "cell_type": "code",
   "execution_count": 2,
   "id": "7988707c",
   "metadata": {},
   "outputs": [
    {
     "data": {
      "text/plain": [
       "True"
      ]
     },
     "execution_count": 2,
     "metadata": {},
     "output_type": "execute_result"
    }
   ],
   "source": [
    "st=stack()\n",
    "isEmpty(st)"
   ]
  },
  {
   "cell_type": "code",
   "execution_count": 3,
   "id": "d4040e7b",
   "metadata": {},
   "outputs": [
    {
     "name": "stdout",
     "output_type": "stream",
     "text": [
      "[100, 23]\n"
     ]
    }
   ],
   "source": [
    "push(st,100)\n",
    "push(st,23)\n",
    "push(st,34)\n",
    "pop(st)\n",
    "push(st,56)\n",
    "pop(st)\n",
    "print(st)"
   ]
  },
  {
   "cell_type": "code",
   "execution_count": 14,
   "id": "2b9523db",
   "metadata": {},
   "outputs": [],
   "source": [
    "# CODE PENGECEKAN KURUNG\n",
    "\n",
    "def paranthesescheck(strmath):\n",
    "    operandstack=stack()\n",
    "    lenmath=len(strmath)\n",
    "    openoperand=\"([{\"\n",
    "    closeoperand=\")}]\"\n",
    "    #print(lenmath\n",
    "    i=0\n",
    "    matched=True;\n",
    "    while i<(lenmath):\n",
    "        if strmath[i] in openoperand:\n",
    "            push(operandstack, strmath[i])\n",
    "        elif strmath[i] in closeoperand:\n",
    "            if not (isEmpty(operandstack)):\n",
    "                top=pop(operandstack)\n",
    "                if openoperand.index(top)==closeoperand.index(strmath[i]):\n",
    "                    matched= matched and True\n",
    "                else:\n",
    "                    matched=matched and False\n",
    "                    print(\"Kurung Buka dan Kurung Tutu tidak cocok\")\n",
    "            else:\n",
    "                matched=matched and False\n",
    "                print(\"Jumlah Kurung tutup lebih banyak\")\n",
    "        i=i+1\n",
    "    if not(isEmpty(operandstack)):\n",
    "        matched= False\n",
    "        print(\"Jumlah Kurung Buka Lebih Banyak\")\n",
    "    return(matched)"
   ]
  },
  {
   "cell_type": "code",
   "execution_count": 15,
   "id": "b40cac00",
   "metadata": {},
   "outputs": [],
   "source": [
    "a=\"5 x (4 + 5) / ((3 + 2) x (10 - 8 )\""
   ]
  },
  {
   "cell_type": "code",
   "execution_count": 16,
   "id": "df7003b5",
   "metadata": {},
   "outputs": [
    {
     "name": "stdout",
     "output_type": "stream",
     "text": [
      "Jumlah Kurung Buka Lebih Banyak\n",
      "False\n"
     ]
    }
   ],
   "source": [
    "ismatched=paranthesescheck(a)\n",
    "print(ismatched)"
   ]
  },
  {
   "cell_type": "code",
   "execution_count": 17,
   "id": "c9e96e57",
   "metadata": {},
   "outputs": [
    {
     "data": {
      "text/plain": [
       "True"
      ]
     },
     "execution_count": 17,
     "metadata": {},
     "output_type": "execute_result"
    }
   ],
   "source": [
    "paranthesescheck(\"5x(4+5)/((3+2) x (10-8))\")"
   ]
  },
  {
   "cell_type": "code",
   "execution_count": 19,
   "id": "b64a9512",
   "metadata": {},
   "outputs": [
    {
     "name": "stdout",
     "output_type": "stream",
     "text": [
      "Kurung Buka dan Kurung Tutu tidak cocok\n"
     ]
    },
    {
     "data": {
      "text/plain": [
       "False"
      ]
     },
     "execution_count": 19,
     "metadata": {},
     "output_type": "execute_result"
    }
   ],
   "source": [
    "paranthesescheck(\"5x(4+5}/((3+2)x(10-8))\")"
   ]
  },
  {
   "cell_type": "code",
   "execution_count": 20,
   "id": "144f8289",
   "metadata": {},
   "outputs": [],
   "source": [
    "# CODE EVALUASI EKPRESI POSTFIX\n",
    "\n",
    "def evaluatepost(poststr):\n",
    "    operandstack=stack()\n",
    "    operator=\"+-/*\"\n",
    "    for i in poststr:\n",
    "        if i not in operator:\n",
    "            push(operandstack,i)\n",
    "        else:\n",
    "            operand2=pop(operandstack)\n",
    "            operand1=pop(operandstack)\n",
    "            if i==\"+\":\n",
    "                result=float(operand1)+float(operand2)\n",
    "            elif i==\"-\":\n",
    "                result=float(operand1)-float(operand2)\n",
    "            elif i==\"*\":\n",
    "                result=float(operand1)*float(operand2)\n",
    "            else:\n",
    "                result=float(operand1)/float(operand2)\n",
    "            push(operandstack,result)\n",
    "    return(pop(operandstack))"
   ]
  },
  {
   "cell_type": "code",
   "execution_count": 21,
   "id": "dc046abd",
   "metadata": {},
   "outputs": [
    {
     "name": "stdout",
     "output_type": "stream",
     "text": [
      "-6.0\n"
     ]
    }
   ],
   "source": [
    "print(evaluatepost(\"45-6*\"))"
   ]
  },
  {
   "cell_type": "code",
   "execution_count": 22,
   "id": "6a8efc5a",
   "metadata": {},
   "outputs": [],
   "source": [
    "# CODE BILANGAN BINER\n",
    "\n",
    "def dec2bin(num):\n",
    "    st=stack()\n",
    "    divnum=num\n",
    "    while divnum>0:\n",
    "        push(st,divnum%2)\n",
    "        divnum=divnum//2\n",
    "    temp=\" \"\n",
    "    while not(isEmpty(st)):\n",
    "        temp=temp+str(pop(st))\n",
    "    return temp"
   ]
  },
  {
   "cell_type": "code",
   "execution_count": 24,
   "id": "454fe3d0",
   "metadata": {},
   "outputs": [
    {
     "name": "stdout",
     "output_type": "stream",
     "text": [
      " 1000\n"
     ]
    }
   ],
   "source": [
    "print(dec2bin(8))"
   ]
  },
  {
   "cell_type": "code",
   "execution_count": 25,
   "id": "6f412f68",
   "metadata": {},
   "outputs": [],
   "source": [
    "# CODE REVERSE WORD\n",
    "\n",
    "def reversewords(huruf):\n",
    "    data=stack()\n",
    "    for i in huruf:\n",
    "        push(data,i)\n",
    "    none=\" \"\n",
    "    while not (isEmpty(data)):\n",
    "        none=none+pop(data)\n",
    "    return none"
   ]
  },
  {
   "cell_type": "code",
   "execution_count": 26,
   "id": "c93eb785",
   "metadata": {},
   "outputs": [
    {
     "data": {
      "text/plain": [
       "' skcats'"
      ]
     },
     "execution_count": 26,
     "metadata": {},
     "output_type": "execute_result"
    }
   ],
   "source": [
    "reversewords(\"stacks\")"
   ]
  },
  {
   "cell_type": "code",
   "execution_count": 29,
   "id": "aad41db2",
   "metadata": {},
   "outputs": [
    {
     "name": "stdout",
     "output_type": "stream",
     "text": [
      "langkah ke 1:\n",
      "karakter dibaca 2\n",
      "isi tumpukan <function stack at 0x0000023A15A02E50>\n",
      "hasil notasi terbentuk ['2']\n",
      "langkah ke 2:\n"
     ]
    },
    {
     "ename": "TypeError",
     "evalue": "object of type 'function' has no len()",
     "output_type": "error",
     "traceback": [
      "\u001b[1;31m---------------------------------------------------------------------------\u001b[0m",
      "\u001b[1;31mTypeError\u001b[0m                                 Traceback (most recent call last)",
      "\u001b[1;32m<ipython-input-29-5395e82a126f>\u001b[0m in \u001b[0;36m<module>\u001b[1;34m\u001b[0m\n\u001b[0;32m     39\u001b[0m         \u001b[0mhasil\u001b[0m\u001b[1;33m.\u001b[0m\u001b[0mappend\u001b[0m\u001b[1;33m(\u001b[0m\u001b[0mst\u001b[0m\u001b[1;33m.\u001b[0m\u001b[0mpop\u001b[0m\u001b[1;33m(\u001b[0m\u001b[1;33m)\u001b[0m\u001b[1;33m)\u001b[0m\u001b[1;33m\u001b[0m\u001b[1;33m\u001b[0m\u001b[0m\n\u001b[0;32m     40\u001b[0m     \u001b[1;32mreturn\u001b[0m \u001b[1;34m\"jumlah =\"\u001b[0m\u001b[1;33m+\u001b[0m\u001b[0mjumlah\u001b[0m\u001b[1;33m.\u001b[0m\u001b[0mjoin\u001b[0m\u001b[1;33m(\u001b[0m\u001b[0mhasil\u001b[0m\u001b[1;33m)\u001b[0m\u001b[1;33m\u001b[0m\u001b[1;33m\u001b[0m\u001b[0m\n\u001b[1;32m---> 41\u001b[1;33m \u001b[0mprint\u001b[0m\u001b[1;33m(\u001b[0m\u001b[0min2post\u001b[0m\u001b[1;33m(\u001b[0m\u001b[1;34m\"2 * 4 + C * D\"\u001b[0m\u001b[1;33m)\u001b[0m\u001b[1;33m)\u001b[0m\u001b[1;33m\u001b[0m\u001b[1;33m\u001b[0m\u001b[0m\n\u001b[0m",
      "\u001b[1;32m<ipython-input-29-5395e82a126f>\u001b[0m in \u001b[0;36min2post\u001b[1;34m(ekspresi)\u001b[0m\n\u001b[0;32m     30\u001b[0m                 \u001b[0mprint\u001b[0m\u001b[1;33m(\u001b[0m\u001b[1;34m\"karakter dibaca\"\u001b[0m\u001b[1;33m,\u001b[0m\u001b[0mtoptoken\u001b[0m\u001b[1;33m)\u001b[0m\u001b[1;33m\u001b[0m\u001b[1;33m\u001b[0m\u001b[0m\n\u001b[0;32m     31\u001b[0m         \u001b[1;32melse\u001b[0m\u001b[1;33m:\u001b[0m\u001b[1;33m\u001b[0m\u001b[1;33m\u001b[0m\u001b[0m\n\u001b[1;32m---> 32\u001b[1;33m             \u001b[1;32mwhile\u001b[0m \u001b[1;32mnot\u001b[0m \u001b[0misEmpty\u001b[0m\u001b[1;33m(\u001b[0m\u001b[0mst\u001b[0m\u001b[1;33m)\u001b[0m \u001b[1;32mand\u001b[0m \u001b[0mpr\u001b[0m\u001b[1;33m[\u001b[0m\u001b[0mpeek\u001b[0m\u001b[1;33m(\u001b[0m\u001b[0mst\u001b[0m\u001b[1;33m)\u001b[0m\u001b[1;33m]\u001b[0m \u001b[1;33m>=\u001b[0m \u001b[0mpr\u001b[0m\u001b[1;33m[\u001b[0m\u001b[0mtoken\u001b[0m\u001b[1;33m]\u001b[0m\u001b[1;33m:\u001b[0m\u001b[1;33m\u001b[0m\u001b[1;33m\u001b[0m\u001b[0m\n\u001b[0m\u001b[0;32m     33\u001b[0m                 \u001b[0mhasil\u001b[0m\u001b[1;33m.\u001b[0m\u001b[0mappend\u001b[0m\u001b[1;33m(\u001b[0m\u001b[0mst\u001b[0m\u001b[1;33m.\u001b[0m\u001b[0mpop\u001b[0m\u001b[1;33m(\u001b[0m\u001b[1;33m)\u001b[0m\u001b[1;33m)\u001b[0m\u001b[1;33m\u001b[0m\u001b[1;33m\u001b[0m\u001b[0m\n\u001b[0;32m     34\u001b[0m             \u001b[0mpush\u001b[0m\u001b[1;33m(\u001b[0m\u001b[0mst\u001b[0m\u001b[1;33m,\u001b[0m\u001b[0mtoken\u001b[0m\u001b[1;33m)\u001b[0m\u001b[1;33m\u001b[0m\u001b[1;33m\u001b[0m\u001b[0m\n",
      "\u001b[1;32m<ipython-input-1-a2ff8745cf56>\u001b[0m in \u001b[0;36mpeek\u001b[1;34m(s)\u001b[0m\n\u001b[0;32m     10\u001b[0m     \u001b[1;32mreturn\u001b[0m\u001b[1;33m(\u001b[0m\u001b[0mdata\u001b[0m\u001b[1;33m)\u001b[0m\u001b[1;33m\u001b[0m\u001b[1;33m\u001b[0m\u001b[0m\n\u001b[0;32m     11\u001b[0m \u001b[1;32mdef\u001b[0m \u001b[0mpeek\u001b[0m\u001b[1;33m(\u001b[0m\u001b[0ms\u001b[0m\u001b[1;33m)\u001b[0m\u001b[1;33m:\u001b[0m\u001b[1;33m\u001b[0m\u001b[1;33m\u001b[0m\u001b[0m\n\u001b[1;32m---> 12\u001b[1;33m     \u001b[1;32mreturn\u001b[0m\u001b[1;33m(\u001b[0m\u001b[0ms\u001b[0m\u001b[1;33m[\u001b[0m\u001b[0mlen\u001b[0m\u001b[1;33m(\u001b[0m\u001b[0ms\u001b[0m\u001b[1;33m)\u001b[0m\u001b[1;33m-\u001b[0m\u001b[1;36m1\u001b[0m\u001b[1;33m]\u001b[0m\u001b[1;33m)\u001b[0m\u001b[1;33m\u001b[0m\u001b[1;33m\u001b[0m\u001b[0m\n\u001b[0m\u001b[0;32m     13\u001b[0m \u001b[1;32mdef\u001b[0m \u001b[0misEmpty\u001b[0m\u001b[1;33m(\u001b[0m\u001b[0ms\u001b[0m\u001b[1;33m)\u001b[0m\u001b[1;33m:\u001b[0m\u001b[1;33m\u001b[0m\u001b[1;33m\u001b[0m\u001b[0m\n\u001b[0;32m     14\u001b[0m     \u001b[1;32mreturn\u001b[0m\u001b[1;33m(\u001b[0m\u001b[0ms\u001b[0m\u001b[1;33m==\u001b[0m\u001b[1;33m[\u001b[0m\u001b[1;33m]\u001b[0m\u001b[1;33m)\u001b[0m\u001b[1;33m\u001b[0m\u001b[1;33m\u001b[0m\u001b[0m\n",
      "\u001b[1;31mTypeError\u001b[0m: object of type 'function' has no len()"
     ]
    }
   ],
   "source": [
    "# CODE KONVERSI ARITMATIK INFIX KE PREFIX\n",
    "\n",
    "def in2post(ekspresi):\n",
    "    operator=[\"+\",\"-\",\"*\",\"/\",\"(\",\")\"]\n",
    "    pr={}\n",
    "    pr[\"*\"]=3\n",
    "    pr[\"/\"]=3\n",
    "    pr[\"+\"]=2\n",
    "    pr[\"-\"]=2\n",
    "    pr[\"(\"]=1\n",
    "    st=stack\n",
    "    hasil=[]\n",
    "    tokenlist=ekspresi.split()\n",
    "    jumlah=\" \"\n",
    "    none=0\n",
    "    for token in tokenlist:\n",
    "        print(\"langkah ke %d:\" %(none+1))\n",
    "        if token in \"ABCDFGHIJKLMNOPQRSTUVWXYZ\" or token in \"0123456789\":\n",
    "            hasil.append(token)\n",
    "            print(\"karakter dibaca\",token)\n",
    "        elif token == \"(\":\n",
    "            push(st,token)\n",
    "            print(\"karakter dibaca\",token)\n",
    "        elif token == \")\":\n",
    "            toptoken=pop(st)\n",
    "            print(\"karakter dibaca\",token)\n",
    "            while toptoken != \"(\":\n",
    "                hasil.append(toptoken)\n",
    "                toptoken=st.pop()\n",
    "                print(\"karakter dibaca\",toptoken)\n",
    "        else:\n",
    "            while not isEmpty(st) and pr[peek(st)] >= pr[token]:\n",
    "                hasil.append(st.pop())\n",
    "            push(st,token)\n",
    "        print(\"isi tumpukan\",st)\n",
    "        print(\"hasil notasi terbentuk\",hasil)\n",
    "        none=none+1\n",
    "    while not isEmpty(st):\n",
    "        hasil.append(st.pop())\n",
    "    return \"jumlah =\"+jumlah.join(hasil)\n",
    "print(in2post(\"2 * 4 + C * D\"))"
   ]
  },
  {
   "cell_type": "code",
   "execution_count": null,
   "id": "7d90d27f",
   "metadata": {},
   "outputs": [],
   "source": []
  }
 ],
 "metadata": {
  "kernelspec": {
   "display_name": "Python 3",
   "language": "python",
   "name": "python3"
  },
  "language_info": {
   "codemirror_mode": {
    "name": "ipython",
    "version": 3
   },
   "file_extension": ".py",
   "mimetype": "text/x-python",
   "name": "python",
   "nbconvert_exporter": "python",
   "pygments_lexer": "ipython3",
   "version": "3.8.8"
  }
 },
 "nbformat": 4,
 "nbformat_minor": 5
}
