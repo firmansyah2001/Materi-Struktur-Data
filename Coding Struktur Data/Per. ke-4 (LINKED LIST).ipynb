{
 "cells": [
  {
   "cell_type": "markdown",
   "id": "ea894832",
   "metadata": {},
   "source": [
    "# LINKED LIST"
   ]
  },
  {
   "cell_type": "code",
   "execution_count": 1,
   "id": "5b271d6d",
   "metadata": {},
   "outputs": [],
   "source": [
    "class Node:\n",
    "    def __init__(self, init_data):\n",
    "        self.data=init_data\n",
    "        self.next=None\n",
    "    def getData(self):\n",
    "        return self.data\n",
    "    def getNext(self):\n",
    "        return self.next\n",
    "    def setData(self,newdata):\n",
    "        self.data=newdata\n",
    "    def setNext(self,new_next):\n",
    "        self.next=new_next"
   ]
  },
  {
   "cell_type": "code",
   "execution_count": 2,
   "id": "49b83398",
   "metadata": {},
   "outputs": [
    {
     "name": "stdout",
     "output_type": "stream",
     "text": [
      "None\n",
      "None\n",
      "<__main__.Node object at 0x000002769BC85A90>\n"
     ]
    }
   ],
   "source": [
    "a=Node(93)\n",
    "b=Node(20)\n",
    "print(a.getNext())\n",
    "print(b.getNext())\n",
    "a.setNext(b)\n",
    "print(a.getNext())"
   ]
  },
  {
   "cell_type": "code",
   "execution_count": 3,
   "id": "8a69c1dd",
   "metadata": {},
   "outputs": [],
   "source": [
    "# CODE\n",
    "\n",
    "class Linkedlist:\n",
    "    def __int__(self):\n",
    "        self.head=None\n",
    "    def isEmpty(self):\n",
    "        return self.head==None"
   ]
  },
  {
   "cell_type": "code",
   "execution_count": 5,
   "id": "b66fb1d1",
   "metadata": {},
   "outputs": [],
   "source": [
    "mylist=Linkedlist()"
   ]
  },
  {
   "cell_type": "code",
   "execution_count": 7,
   "id": "f38b97d1",
   "metadata": {},
   "outputs": [],
   "source": [
    "# CODE Pencarian Node pada Linked List\n",
    "\n",
    "class Linkedlist:\n",
    "    def __init__(self):\n",
    "        self.head= None\n",
    "    def isEmpty(self):\n",
    "        return self.head==None\n",
    "    def add(self,item):\n",
    "        temp=Node(item)\n",
    "        temp.setNext(self.head)\n",
    "        self.head=temp\n",
    "    def size(self):\n",
    "        current=self.head\n",
    "        count=0\n",
    "        while current != None:\n",
    "            count = count+1\n",
    "            current=current.getNext()\n",
    "        return count\n",
    "    def seacrh(self,item):\n",
    "        current=self.head \n",
    "        found = False\n",
    "        while current != None and not found:\n",
    "            if current.getData() == item :\n",
    "                found = True\n",
    "            else:\n",
    "                current=current.getNext()\n",
    "        return found"
   ]
  },
  {
   "cell_type": "code",
   "execution_count": 8,
   "id": "96f0ab1f",
   "metadata": {},
   "outputs": [
    {
     "data": {
      "text/plain": [
       "True"
      ]
     },
     "execution_count": 8,
     "metadata": {},
     "output_type": "execute_result"
    }
   ],
   "source": [
    "mylist=Linkedlist()\n",
    "mylist.add(45)\n",
    "mylist.add(34)\n",
    "mylist.add(70)\n",
    "mylist.add(84)\n",
    "mylist.size()\n",
    "mylist.seacrh(34)"
   ]
  },
  {
   "cell_type": "code",
   "execution_count": 15,
   "id": "b1abc002",
   "metadata": {},
   "outputs": [],
   "source": [
    "# CODE MENAMPILKAN SELURUH DATA PADA LINKED LIST\n",
    "\n",
    "class Linkedlist:\n",
    "    def __init__(self):\n",
    "        self.head = None\n",
    "    def isEmpty(self):\n",
    "        return self.head==None\n",
    "    def add(self, item):\n",
    "        temp= Node(item)\n",
    "        temp.setNext(self.head)\n",
    "        self.head=temp\n",
    "    def size(self):\n",
    "        current=self.head\n",
    "        count=0\n",
    "        while current != None:\n",
    "            count = count +1\n",
    "            current = current.getNext()\n",
    "        return count\n",
    "    def seacrh(self,item):\n",
    "        current=self.head\n",
    "        found=False\n",
    "        while current != None and not found:\n",
    "            if current.getData() == item:\n",
    "                found=True\n",
    "            else:\n",
    "                current=current.getNext()\n",
    "        return found\n",
    "    def display(self):\n",
    "        current = self.head\n",
    "        while current !=None:\n",
    "            print(current.getData())\n",
    "            current=current.getNext()\n",
    "            "
   ]
  },
  {
   "cell_type": "code",
   "execution_count": 16,
   "id": "c118a82b",
   "metadata": {},
   "outputs": [],
   "source": [
    "mylist=Linkedlist()\n",
    "mylist.add(45)\n",
    "mylist.add(34)\n",
    "mylist.add(70)\n",
    "mylist.add(84)"
   ]
  },
  {
   "cell_type": "code",
   "execution_count": 17,
   "id": "f8901e91",
   "metadata": {},
   "outputs": [
    {
     "name": "stdout",
     "output_type": "stream",
     "text": [
      "84\n",
      "70\n",
      "34\n",
      "45\n"
     ]
    }
   ],
   "source": [
    "mylist.display()"
   ]
  },
  {
   "cell_type": "code",
   "execution_count": 18,
   "id": "bbf8af8e",
   "metadata": {},
   "outputs": [],
   "source": [
    "# CODE PENGHAPUSAN NODE PADA LINKED LIST\n",
    "\n",
    "class Linkedlist:\n",
    "    def __init__(self):\n",
    "        self.head = None\n",
    "    def isEmpty(self):\n",
    "        return self.head==None\n",
    "    def add(self, item):\n",
    "        temp= Node(item)\n",
    "        temp.setNext(self.head)\n",
    "        self.head=temp\n",
    "    def size(self):\n",
    "        current=self.head\n",
    "        count=0\n",
    "        while current != None:\n",
    "            count = count +1\n",
    "            current = current.getNext()\n",
    "        return count\n",
    "    def seacrh(self,item):\n",
    "        current=self.head\n",
    "        found=False\n",
    "        while current != None and not found:\n",
    "            if current.getData() == item:\n",
    "                found=True\n",
    "            else:\n",
    "                current=current.getNext()\n",
    "        return found\n",
    "    def display(self):\n",
    "        current = self.head\n",
    "        while current !=None:\n",
    "            print(current.getData())\n",
    "            current=current.getNext()\n",
    "    def remove(self,item):\n",
    "        current=self.head\n",
    "        previous=None\n",
    "        found=False\n",
    "        while not found:\n",
    "            if current.getData()==item:\n",
    "                found=True\n",
    "            else:\n",
    "                previous=current\n",
    "                current=current.getNext()\n",
    "        if previous == None:\n",
    "            self.head=current.getNext()\n",
    "        else:\n",
    "            previous.setNext(current.getNext())"
   ]
  },
  {
   "cell_type": "code",
   "execution_count": 21,
   "id": "97f5fc8f",
   "metadata": {},
   "outputs": [
    {
     "name": "stdout",
     "output_type": "stream",
     "text": [
      "97\n",
      "84\n",
      "70\n",
      "34\n",
      "45\n"
     ]
    }
   ],
   "source": [
    "mylist=Linkedlist()\n",
    "mylist.add(45)\n",
    "mylist.add(34)\n",
    "mylist.add(70)\n",
    "mylist.add(84)\n",
    "mylist.add(97)\n",
    "mylist.display()"
   ]
  },
  {
   "cell_type": "code",
   "execution_count": 22,
   "id": "6e40b413",
   "metadata": {},
   "outputs": [],
   "source": [
    "mylist.remove(34)"
   ]
  },
  {
   "cell_type": "code",
   "execution_count": 23,
   "id": "249e4901",
   "metadata": {},
   "outputs": [
    {
     "name": "stdout",
     "output_type": "stream",
     "text": [
      "97\n",
      "84\n",
      "70\n",
      "45\n"
     ]
    }
   ],
   "source": [
    "mylist.display()"
   ]
  },
  {
   "cell_type": "code",
   "execution_count": 24,
   "id": "180bc0fc",
   "metadata": {},
   "outputs": [],
   "source": [
    "# CODE ORDERED LIST\n",
    "\n",
    "class OrderedLinkedList:\n",
    "    def __init__(self):\n",
    "        self.head = None\n",
    "    def isEmpty(self):\n",
    "        return self.head==None\n",
    "    def size(self):\n",
    "        current = self.head\n",
    "        count = 0\n",
    "        while current != None:\n",
    "            count = count + 1\n",
    "            current = current.getNext()\n",
    "        return count\n",
    "    def display(self):\n",
    "        current = self.head\n",
    "        while current != None:\n",
    "            print(current.getData())\n",
    "            current = current.getNext()\n",
    "    def remove(self, item):\n",
    "        current = self.head\n",
    "        previous = None\n",
    "        found = False\n",
    "        while not found:\n",
    "            if current.getData() == item:\n",
    "                found = True\n",
    "            else:\n",
    "                previous = current\n",
    "                current = current.getNext()\n",
    "        if previous == None:\n",
    "            self.head = current.getNext()\n",
    "        else:\n",
    "            previous.setNext(current.getNext())\n",
    "    def search(self,item):\n",
    "        current = self.head\n",
    "        found = False\n",
    "        stop=False\n",
    "        while current != None and not found and not stop:\n",
    "            if current.getData() == item:\n",
    "                found = True\n",
    "            else:\n",
    "                if current.getData() > item:\n",
    "                    stop = True\n",
    "                else:\n",
    "                    current = current.getNext()\n",
    "        return found\n",
    "    def add(self, item):\n",
    "        current=self.head\n",
    "        previous = None\n",
    "        stop = False\n",
    "        while current != None and not stop:\n",
    "            if current.getData() > item:\n",
    "                stop = True\n",
    "            else:\n",
    "                previous = current\n",
    "                current = current.getNext()\n",
    "        temp = Node(item)\n",
    "        if previous == None:\n",
    "            temp.setNext(self.head)\n",
    "            self.head = temp\n",
    "        else: # ditautkan antara previous dengan current\n",
    "            temp.setNext(current)\n",
    "            previous.setNext(temp)"
   ]
  },
  {
   "cell_type": "code",
   "execution_count": 25,
   "id": "f0304aff",
   "metadata": {},
   "outputs": [],
   "source": [
    "myList=OrderedLinkedList()"
   ]
  },
  {
   "cell_type": "code",
   "execution_count": 26,
   "id": "42f7741a",
   "metadata": {},
   "outputs": [],
   "source": [
    "myList.add(9)"
   ]
  },
  {
   "cell_type": "code",
   "execution_count": 27,
   "id": "98c48278",
   "metadata": {},
   "outputs": [],
   "source": [
    "myList.add(14)"
   ]
  },
  {
   "cell_type": "code",
   "execution_count": 28,
   "id": "36fb5243",
   "metadata": {},
   "outputs": [
    {
     "name": "stdout",
     "output_type": "stream",
     "text": [
      "9\n",
      "14\n"
     ]
    }
   ],
   "source": [
    "myList.display()"
   ]
  },
  {
   "cell_type": "code",
   "execution_count": 29,
   "id": "0aab5864",
   "metadata": {},
   "outputs": [
    {
     "name": "stdout",
     "output_type": "stream",
     "text": [
      "9\n",
      "14\n",
      "100\n"
     ]
    }
   ],
   "source": [
    "myList.add(100)\n",
    "myList.display()"
   ]
  },
  {
   "cell_type": "code",
   "execution_count": null,
   "id": "ad06d8ca",
   "metadata": {},
   "outputs": [],
   "source": []
  }
 ],
 "metadata": {
  "kernelspec": {
   "display_name": "Python 3",
   "language": "python",
   "name": "python3"
  },
  "language_info": {
   "codemirror_mode": {
    "name": "ipython",
    "version": 3
   },
   "file_extension": ".py",
   "mimetype": "text/x-python",
   "name": "python",
   "nbconvert_exporter": "python",
   "pygments_lexer": "ipython3",
   "version": "3.8.8"
  }
 },
 "nbformat": 4,
 "nbformat_minor": 5
}
