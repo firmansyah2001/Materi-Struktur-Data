{
 "cells": [
  {
   "cell_type": "markdown",
   "id": "8b5ff13c",
   "metadata": {},
   "source": [
    "# Pertemuan ke-3 DEQUES"
   ]
  },
  {
   "cell_type": "code",
   "execution_count": 9,
   "id": "d3c5d157",
   "metadata": {},
   "outputs": [],
   "source": [
    "# CODE DEQUES\n",
    "\n",
    "def createDeque():\n",
    "    d=[]\n",
    "    return(d)\n",
    "def addFront(d,data):\n",
    "    d.insert(0,data)\n",
    "    return(d)\n",
    "def addRear(d,data):\n",
    "    d.append(data)\n",
    "    return(d)\n",
    "def removeRear(d):\n",
    "    data=d.pop()\n",
    "    return(data)\n",
    "def removeFront(d):\n",
    "    data=d.pop(0)\n",
    "    return(data)\n",
    "def isEmpty(d):\n",
    "    return(d==[])\n",
    "def size(d):\n",
    "    return (len(d))"
   ]
  },
  {
   "cell_type": "code",
   "execution_count": 10,
   "id": "727831b8",
   "metadata": {},
   "outputs": [],
   "source": [
    "deq=createDeque()"
   ]
  },
  {
   "cell_type": "code",
   "execution_count": 11,
   "id": "8f4bf5a8",
   "metadata": {},
   "outputs": [
    {
     "data": {
      "text/plain": [
       "['data', 'Struktur']"
      ]
     },
     "execution_count": 11,
     "metadata": {},
     "output_type": "execute_result"
    }
   ],
   "source": [
    "addFront(deq,\"Struktur\")\n",
    "addFront(deq,\"data\")"
   ]
  },
  {
   "cell_type": "code",
   "execution_count": 12,
   "id": "7676de7d",
   "metadata": {},
   "outputs": [
    {
     "data": {
      "text/plain": [
       "['data', 'Struktur', '2018', '2019', '100']"
      ]
     },
     "execution_count": 12,
     "metadata": {},
     "output_type": "execute_result"
    }
   ],
   "source": [
    "addRear(deq,\"2018\")\n",
    "addRear(deq,\"2019\")\n",
    "addRear(deq,\"100\")"
   ]
  },
  {
   "cell_type": "code",
   "execution_count": 13,
   "id": "2c9141d6",
   "metadata": {},
   "outputs": [
    {
     "name": "stdout",
     "output_type": "stream",
     "text": [
      "data\n",
      "['Struktur', '2018', '2019', '100']\n"
     ]
    }
   ],
   "source": [
    "data=removeFront(deq)\n",
    "print(data)\n",
    "print(deq)"
   ]
  },
  {
   "cell_type": "code",
   "execution_count": 14,
   "id": "2b6b0daa",
   "metadata": {},
   "outputs": [
    {
     "name": "stdout",
     "output_type": "stream",
     "text": [
      "4\n",
      "False\n"
     ]
    }
   ],
   "source": [
    "print(size(deq))\n",
    "print(isEmpty(deq))"
   ]
  },
  {
   "cell_type": "code",
   "execution_count": 17,
   "id": "3f927626",
   "metadata": {},
   "outputs": [],
   "source": [
    "# CODE PALINDROM SUATU KATA\n",
    "\n",
    "def cekpalindrom(string):\n",
    "    palindrom=createDeque()\n",
    "    for huruf in string:\n",
    "        addRear(palindrom,huruf)\n",
    "    cek=True\n",
    "    while size(palindrom)>1:\n",
    "        a=removeRear(palindrom)\n",
    "        b=removeFront(palindrom)\n",
    "        if (a==b):\n",
    "            cek=cek and True\n",
    "        else:\n",
    "            cek= cek and False\n",
    "    return cek"
   ]
  },
  {
   "cell_type": "code",
   "execution_count": 18,
   "id": "75aeb471",
   "metadata": {},
   "outputs": [
    {
     "name": "stdout",
     "output_type": "stream",
     "text": [
      "True\n",
      "False\n",
      "True\n",
      "True\n",
      "True\n",
      "False\n"
     ]
    }
   ],
   "source": [
    "print(cekpalindrom(\"hannah\"))\n",
    "print(cekpalindrom(\"surabaya\"))\n",
    "print(cekpalindrom(\"abcdcba\"))\n",
    "print(cekpalindrom(\"katak\"))\n",
    "print(cekpalindrom(\"taat\"))\n",
    "print(cekpalindrom(\"dia\"))"
   ]
  },
  {
   "cell_type": "code",
   "execution_count": null,
   "id": "67b8db1f",
   "metadata": {},
   "outputs": [],
   "source": []
  }
 ],
 "metadata": {
  "kernelspec": {
   "display_name": "Python 3",
   "language": "python",
   "name": "python3"
  },
  "language_info": {
   "codemirror_mode": {
    "name": "ipython",
    "version": 3
   },
   "file_extension": ".py",
   "mimetype": "text/x-python",
   "name": "python",
   "nbconvert_exporter": "python",
   "pygments_lexer": "ipython3",
   "version": "3.8.8"
  }
 },
 "nbformat": 4,
 "nbformat_minor": 5
}
