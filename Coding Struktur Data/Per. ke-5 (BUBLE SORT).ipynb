{
 "cells": [
  {
   "cell_type": "markdown",
   "id": "ac0f21a4",
   "metadata": {},
   "source": [
    "# BUBLE SORT"
   ]
  },
  {
   "cell_type": "code",
   "execution_count": 2,
   "id": "48625bef",
   "metadata": {},
   "outputs": [],
   "source": [
    "def bubbleSort(listData):\n",
    "    print('Data yang akan diurutkan : ', listData)\n",
    "    count=0\n",
    "    for outIter in range(len(listData)-1,-1,-1):\n",
    "        count=count+1\n",
    "        print ('Iterasi ke-', count,':')\n",
    "        for i in range(outIter):\n",
    "            if listData[i]>listData[i+1]:\n",
    "                temp=listData[i]\n",
    "                listData[i]=listData[i+1]\n",
    "                listData[i+1]=temp\n",
    "                #listData[i],listData[i+1]=listData[i+1],listData[i]\n",
    "            print(listData)\n",
    "    print('Data urut-',listData)"
   ]
  },
  {
   "cell_type": "code",
   "execution_count": 3,
   "id": "8ad33f56",
   "metadata": {},
   "outputs": [
    {
     "name": "stdout",
     "output_type": "stream",
     "text": [
      "Data yang akan diurutkan :  [12, 0, 5, 1, 11, 20, 4, 2]\n",
      "Iterasi ke- 1 :\n",
      "[0, 12, 5, 1, 11, 20, 4, 2]\n",
      "[0, 5, 12, 1, 11, 20, 4, 2]\n",
      "[0, 5, 1, 12, 11, 20, 4, 2]\n",
      "[0, 5, 1, 11, 12, 20, 4, 2]\n",
      "[0, 5, 1, 11, 12, 20, 4, 2]\n",
      "[0, 5, 1, 11, 12, 4, 20, 2]\n",
      "[0, 5, 1, 11, 12, 4, 2, 20]\n",
      "Iterasi ke- 2 :\n",
      "[0, 5, 1, 11, 12, 4, 2, 20]\n",
      "[0, 1, 5, 11, 12, 4, 2, 20]\n",
      "[0, 1, 5, 11, 12, 4, 2, 20]\n",
      "[0, 1, 5, 11, 12, 4, 2, 20]\n",
      "[0, 1, 5, 11, 4, 12, 2, 20]\n",
      "[0, 1, 5, 11, 4, 2, 12, 20]\n",
      "Iterasi ke- 3 :\n",
      "[0, 1, 5, 11, 4, 2, 12, 20]\n",
      "[0, 1, 5, 11, 4, 2, 12, 20]\n",
      "[0, 1, 5, 11, 4, 2, 12, 20]\n",
      "[0, 1, 5, 4, 11, 2, 12, 20]\n",
      "[0, 1, 5, 4, 2, 11, 12, 20]\n",
      "Iterasi ke- 4 :\n",
      "[0, 1, 5, 4, 2, 11, 12, 20]\n",
      "[0, 1, 5, 4, 2, 11, 12, 20]\n",
      "[0, 1, 4, 5, 2, 11, 12, 20]\n",
      "[0, 1, 4, 2, 5, 11, 12, 20]\n",
      "Iterasi ke- 5 :\n",
      "[0, 1, 4, 2, 5, 11, 12, 20]\n",
      "[0, 1, 4, 2, 5, 11, 12, 20]\n",
      "[0, 1, 2, 4, 5, 11, 12, 20]\n",
      "Iterasi ke- 6 :\n",
      "[0, 1, 2, 4, 5, 11, 12, 20]\n",
      "[0, 1, 2, 4, 5, 11, 12, 20]\n",
      "Iterasi ke- 7 :\n",
      "[0, 1, 2, 4, 5, 11, 12, 20]\n",
      "Iterasi ke- 8 :\n",
      "Data urut- [0, 1, 2, 4, 5, 11, 12, 20]\n",
      "--\n",
      "Data yang akan diurutkan :  [12, 11, 5, 1, 0]\n",
      "Iterasi ke- 1 :\n",
      "[11, 12, 5, 1, 0]\n",
      "[11, 5, 12, 1, 0]\n",
      "[11, 5, 1, 12, 0]\n",
      "[11, 5, 1, 0, 12]\n",
      "Iterasi ke- 2 :\n",
      "[5, 11, 1, 0, 12]\n",
      "[5, 1, 11, 0, 12]\n",
      "[5, 1, 0, 11, 12]\n",
      "Iterasi ke- 3 :\n",
      "[1, 5, 0, 11, 12]\n",
      "[1, 0, 5, 11, 12]\n",
      "Iterasi ke- 4 :\n",
      "[0, 1, 5, 11, 12]\n",
      "Iterasi ke- 5 :\n",
      "Data urut- [0, 1, 5, 11, 12]\n"
     ]
    }
   ],
   "source": [
    "a=[12,0,5,1,11,20,4,2]\n",
    "bubbleSort(a)\n",
    "b=[12,11,5,1,0]\n",
    "print('--')\n",
    "bubbleSort(b)"
   ]
  },
  {
   "cell_type": "code",
   "execution_count": 4,
   "id": "a5f0a9a1",
   "metadata": {},
   "outputs": [
    {
     "name": "stdout",
     "output_type": "stream",
     "text": [
      "Iterasi ke- 1\n",
      "[6, 10, 7, 1]\n",
      "[6, 7, 10, 1]\n",
      "[6, 7, 1, 10]\n",
      "Iterasi ke- 2\n",
      "[6, 1, 7, 10]\n",
      "Iterasi ke- 3\n",
      "[1, 6, 7, 10]\n"
     ]
    }
   ],
   "source": [
    "# PERULANGAN AKAN BERHENTI SAAT DATA SUDAH URUT\n",
    "\n",
    "a=[10,6,7,1]\n",
    "cek=False\n",
    "i=1\n",
    "while cek==False and i<len(a):\n",
    "    if a == sorted(a):\n",
    "        cek=True\n",
    "        print(\"DATA SUDAH URUT\")\n",
    "    else:\n",
    "        print(\"Iterasi ke-\",i)\n",
    "    j=0\n",
    "    while j<(len(a)-1):\n",
    "        if a[j]>a[j+1]:\n",
    "            a[j],a[j+1]=a[j+1],a[j]\n",
    "            print(a)\n",
    "            if a==sorted(a):\n",
    "                cek=True\n",
    "        j+=1\n",
    "    i+=1"
   ]
  },
  {
   "cell_type": "code",
   "execution_count": 5,
   "id": "33e5f648",
   "metadata": {},
   "outputs": [
    {
     "name": "stdout",
     "output_type": "stream",
     "text": [
      "DATA SUDAH URUT\n"
     ]
    }
   ],
   "source": [
    "a=[6,7,10,12]\n",
    "cek=False\n",
    "i=1\n",
    "while cek==False and i<len(a):\n",
    "    if a == sorted(a):\n",
    "        cek=True\n",
    "        print(\"DATA SUDAH URUT\")\n",
    "    else:\n",
    "        print(\"Iterasi ke-\",i)\n",
    "    j=0\n",
    "    while j<(len(a)-1):\n",
    "        if a[j]>a[j+1]:\n",
    "            a[j],a[j+1]=a[j+1],a[j]\n",
    "            print(a)\n",
    "            if a==sorted(a):\n",
    "                cek=True\n",
    "        j+=1\n",
    "    i+=1"
   ]
  },
  {
   "cell_type": "code",
   "execution_count": 6,
   "id": "527ea92d",
   "metadata": {},
   "outputs": [
    {
     "name": "stdout",
     "output_type": "stream",
     "text": [
      "iterasi - 0\n",
      "iterasi - 1\n",
      "iterasi - 2\n"
     ]
    }
   ],
   "source": [
    "n=3\n",
    "for i in range(n):\n",
    "    print(\"iterasi -\",i)"
   ]
  },
  {
   "cell_type": "code",
   "execution_count": 7,
   "id": "c270dacc",
   "metadata": {},
   "outputs": [
    {
     "name": "stdout",
     "output_type": "stream",
     "text": [
      "iterasi - 0\n",
      "iterasi - 1\n",
      "iterasi - 2\n"
     ]
    }
   ],
   "source": [
    "n=4\n",
    "for i in range(n-1):\n",
    "    print(\"iterasi -\",i)"
   ]
  },
  {
   "cell_type": "code",
   "execution_count": 8,
   "id": "d5fd24ec",
   "metadata": {},
   "outputs": [
    {
     "name": "stdout",
     "output_type": "stream",
     "text": [
      "iterasi - 0\n",
      "iterasi - 1\n"
     ]
    }
   ],
   "source": [
    "n=3\n",
    "for i in range(n-1):\n",
    "    print(\"iterasi -\",i)"
   ]
  },
  {
   "cell_type": "code",
   "execution_count": 9,
   "id": "f228ad44",
   "metadata": {},
   "outputs": [
    {
     "name": "stdout",
     "output_type": "stream",
     "text": [
      "iterasi - 0\n",
      "iterasi - 1\n",
      "iterasi - 2\n",
      "iterasi - 3\n"
     ]
    }
   ],
   "source": [
    "n=5\n",
    "for i in range(n-1):\n",
    "    print(\"iterasi -\",i)"
   ]
  },
  {
   "cell_type": "code",
   "execution_count": 10,
   "id": "7a1c8cbc",
   "metadata": {},
   "outputs": [
    {
     "name": "stdout",
     "output_type": "stream",
     "text": [
      "iterasi - 4\n",
      "iterasi - 3\n",
      "iterasi - 2\n",
      "iterasi - 1\n"
     ]
    }
   ],
   "source": [
    "n=5\n",
    "for i in range(n-1,0,-1): #(awa;, akhir, interval(=-1))\n",
    "    print(\"iterasi -\",i)"
   ]
  },
  {
   "cell_type": "code",
   "execution_count": 11,
   "id": "1c403ffd",
   "metadata": {},
   "outputs": [
    {
     "name": "stdout",
     "output_type": "stream",
     "text": [
      "jumlah iterasi - 4\n",
      "0 -1\n",
      "1 0\n",
      "2 1\n",
      "3 2\n",
      "jumlah iterasi - 3\n",
      "0 -1\n",
      "1 0\n",
      "2 1\n",
      "jumlah iterasi - 2\n",
      "0 -1\n",
      "1 0\n",
      "jumlah iterasi - 1\n",
      "0 -1\n"
     ]
    }
   ],
   "source": [
    "n=5\n",
    "for i in range(n-1,0,-1): #(awa;, akhir, interval(=-1))\n",
    "    print(\"jumlah iterasi -\",i)\n",
    "    for j in range(i):\n",
    "        print(j,j-1)"
   ]
  },
  {
   "cell_type": "code",
   "execution_count": 12,
   "id": "d3f92914",
   "metadata": {},
   "outputs": [
    {
     "name": "stdout",
     "output_type": "stream",
     "text": [
      "jumlah iterasi - 2\n",
      "0 -1\n",
      "1 0\n",
      "jumlah iterasi - 1\n",
      "0 -1\n"
     ]
    }
   ],
   "source": [
    "n=3\n",
    "for i in range(n-1,0,-1): #(awa;, akhir, interval(=-1))\n",
    "    print(\"jumlah iterasi -\",i)\n",
    "    for j in range(i):\n",
    "        print(j,j-1)"
   ]
  },
  {
   "cell_type": "code",
   "execution_count": 13,
   "id": "09b64316",
   "metadata": {},
   "outputs": [
    {
     "name": "stdout",
     "output_type": "stream",
     "text": [
      "jumlah iterasi - 3\n",
      "0 -1\n",
      "1 0\n",
      "2 1\n",
      "jumlah iterasi - 2\n",
      "0 -1\n",
      "1 0\n",
      "jumlah iterasi - 1\n",
      "0 -1\n"
     ]
    }
   ],
   "source": [
    "n=4\n",
    "for i in range(n-1,0,-1): #(awa;, akhir, interval(=-1))\n",
    "    print(\"jumlah iterasi -\",i)\n",
    "    for j in range(i):\n",
    "        print(j,j-1)"
   ]
  },
  {
   "cell_type": "code",
   "execution_count": 18,
   "id": "15af0ede",
   "metadata": {},
   "outputs": [
    {
     "name": "stdout",
     "output_type": "stream",
     "text": [
      "jumlah iterasi - 2\n",
      "1 2\n",
      "jumlah iterasi - 1\n"
     ]
    }
   ],
   "source": [
    "n=4\n",
    "a=[4,6,1]\n",
    "for i in range(len(a)-1,0,-1): #(awal, akhir, interval(=-1))\n",
    "    print(\"jumlah iterasi -\",i)\n",
    "    for j in range(i):\n",
    "        if a[j]>a[j+1]:\n",
    "            print(j,j+1)"
   ]
  },
  {
   "cell_type": "code",
   "execution_count": 19,
   "id": "b7a55beb",
   "metadata": {},
   "outputs": [
    {
     "name": "stdout",
     "output_type": "stream",
     "text": [
      "5 6\n"
     ]
    }
   ],
   "source": [
    "a=5\n",
    "b=6\n",
    "print(a,b)"
   ]
  },
  {
   "cell_type": "code",
   "execution_count": 20,
   "id": "7d2416ef",
   "metadata": {},
   "outputs": [
    {
     "name": "stdout",
     "output_type": "stream",
     "text": [
      "5 6\n",
      "6 5\n"
     ]
    }
   ],
   "source": [
    "a=5\n",
    "b=6\n",
    "print(a,b)\n",
    "a,b=b,a\n",
    "print(a,b)"
   ]
  },
  {
   "cell_type": "code",
   "execution_count": 24,
   "id": "23dd4eeb",
   "metadata": {},
   "outputs": [
    {
     "name": "stdout",
     "output_type": "stream",
     "text": [
      "jumlah iterasi - 2\n",
      "[4, 6, 1]\n",
      "[4, 1, 6]\n",
      "jumlah iterasi - 1\n",
      "[1, 4, 6]\n"
     ]
    }
   ],
   "source": [
    "n=4\n",
    "a=[4,6,1]\n",
    "for i in range(len(a)-1,0,-1): #(awal, akhir, interval(=-1))\n",
    "    print(\"jumlah iterasi -\",i)\n",
    "    for j in range(i):\n",
    "        if a[j]>a[j+1]:\n",
    "            a[j],a[j+1]=a[j+1],a[j]\n",
    "        print(a)"
   ]
  },
  {
   "cell_type": "code",
   "execution_count": 25,
   "id": "98805bf1",
   "metadata": {},
   "outputs": [
    {
     "name": "stdout",
     "output_type": "stream",
     "text": [
      "jumlah iterasi - 3\n",
      "[6, 10, 7, 1]\n",
      "[6, 7, 10, 1]\n",
      "[6, 7, 1, 10]\n",
      "jumlah iterasi - 2\n",
      "[6, 7, 1, 10]\n",
      "[6, 1, 7, 10]\n",
      "jumlah iterasi - 1\n",
      "[1, 6, 7, 10]\n"
     ]
    }
   ],
   "source": [
    "n=4\n",
    "a=[10,6,7,1]\n",
    "for i in range(len(a)-1,0,-1): #(awal, akhir, interval(=-1))\n",
    "    print(\"jumlah iterasi -\",i)\n",
    "    for j in range(i):\n",
    "        if a[j]>a[j+1]:\n",
    "            a[j],a[j+1]=a[j+1],a[j]\n",
    "        print(a)"
   ]
  },
  {
   "cell_type": "code",
   "execution_count": 26,
   "id": "3c71102f",
   "metadata": {},
   "outputs": [
    {
     "name": "stdout",
     "output_type": "stream",
     "text": [
      "jumlah iterasi - 3\n",
      "[6, 10, 7, 1]\n",
      "[6, 7, 10, 1]\n",
      "[6, 7, 1, 10]\n",
      "jumlah iterasi - 2\n",
      "[6, 7, 1, 10]\n",
      "[6, 1, 7, 10]\n",
      "jumlah iterasi - 1\n",
      "[1, 6, 7, 10]\n",
      "data terurut =  [1, 6, 7, 10]\n"
     ]
    }
   ],
   "source": [
    "n=4\n",
    "a=[10,6,7,1]\n",
    "for i in range(len(a)-1,0,-1): #(awal, akhir, interval(=-1))\n",
    "    print(\"jumlah iterasi -\",i)\n",
    "    for j in range(i):\n",
    "        if a[j]>a[j+1]:\n",
    "            a[j],a[j+1]=a[j+1],a[j]\n",
    "        print(a)\n",
    "print(\"data terurut = \",a)"
   ]
  },
  {
   "cell_type": "code",
   "execution_count": 27,
   "id": "d555d5da",
   "metadata": {},
   "outputs": [
    {
     "name": "stdout",
     "output_type": "stream",
     "text": [
      "jumlah iterasi - 13\n",
      "[6, 10, 7, 1, 10, 12, 100, 1, 0, 23, 45, 7, 8, 9]\n",
      "[6, 7, 10, 1, 10, 12, 100, 1, 0, 23, 45, 7, 8, 9]\n",
      "[6, 7, 1, 10, 10, 12, 100, 1, 0, 23, 45, 7, 8, 9]\n",
      "[6, 7, 1, 10, 10, 12, 100, 1, 0, 23, 45, 7, 8, 9]\n",
      "[6, 7, 1, 10, 10, 12, 100, 1, 0, 23, 45, 7, 8, 9]\n",
      "[6, 7, 1, 10, 10, 12, 100, 1, 0, 23, 45, 7, 8, 9]\n",
      "[6, 7, 1, 10, 10, 12, 1, 100, 0, 23, 45, 7, 8, 9]\n",
      "[6, 7, 1, 10, 10, 12, 1, 0, 100, 23, 45, 7, 8, 9]\n",
      "[6, 7, 1, 10, 10, 12, 1, 0, 23, 100, 45, 7, 8, 9]\n",
      "[6, 7, 1, 10, 10, 12, 1, 0, 23, 45, 100, 7, 8, 9]\n",
      "[6, 7, 1, 10, 10, 12, 1, 0, 23, 45, 7, 100, 8, 9]\n",
      "[6, 7, 1, 10, 10, 12, 1, 0, 23, 45, 7, 8, 100, 9]\n",
      "[6, 7, 1, 10, 10, 12, 1, 0, 23, 45, 7, 8, 9, 100]\n",
      "jumlah iterasi - 12\n",
      "[6, 7, 1, 10, 10, 12, 1, 0, 23, 45, 7, 8, 9, 100]\n",
      "[6, 1, 7, 10, 10, 12, 1, 0, 23, 45, 7, 8, 9, 100]\n",
      "[6, 1, 7, 10, 10, 12, 1, 0, 23, 45, 7, 8, 9, 100]\n",
      "[6, 1, 7, 10, 10, 12, 1, 0, 23, 45, 7, 8, 9, 100]\n",
      "[6, 1, 7, 10, 10, 12, 1, 0, 23, 45, 7, 8, 9, 100]\n",
      "[6, 1, 7, 10, 10, 1, 12, 0, 23, 45, 7, 8, 9, 100]\n",
      "[6, 1, 7, 10, 10, 1, 0, 12, 23, 45, 7, 8, 9, 100]\n",
      "[6, 1, 7, 10, 10, 1, 0, 12, 23, 45, 7, 8, 9, 100]\n",
      "[6, 1, 7, 10, 10, 1, 0, 12, 23, 45, 7, 8, 9, 100]\n",
      "[6, 1, 7, 10, 10, 1, 0, 12, 23, 7, 45, 8, 9, 100]\n",
      "[6, 1, 7, 10, 10, 1, 0, 12, 23, 7, 8, 45, 9, 100]\n",
      "[6, 1, 7, 10, 10, 1, 0, 12, 23, 7, 8, 9, 45, 100]\n",
      "jumlah iterasi - 11\n",
      "[1, 6, 7, 10, 10, 1, 0, 12, 23, 7, 8, 9, 45, 100]\n",
      "[1, 6, 7, 10, 10, 1, 0, 12, 23, 7, 8, 9, 45, 100]\n",
      "[1, 6, 7, 10, 10, 1, 0, 12, 23, 7, 8, 9, 45, 100]\n",
      "[1, 6, 7, 10, 10, 1, 0, 12, 23, 7, 8, 9, 45, 100]\n",
      "[1, 6, 7, 10, 1, 10, 0, 12, 23, 7, 8, 9, 45, 100]\n",
      "[1, 6, 7, 10, 1, 0, 10, 12, 23, 7, 8, 9, 45, 100]\n",
      "[1, 6, 7, 10, 1, 0, 10, 12, 23, 7, 8, 9, 45, 100]\n",
      "[1, 6, 7, 10, 1, 0, 10, 12, 23, 7, 8, 9, 45, 100]\n",
      "[1, 6, 7, 10, 1, 0, 10, 12, 7, 23, 8, 9, 45, 100]\n",
      "[1, 6, 7, 10, 1, 0, 10, 12, 7, 8, 23, 9, 45, 100]\n",
      "[1, 6, 7, 10, 1, 0, 10, 12, 7, 8, 9, 23, 45, 100]\n",
      "jumlah iterasi - 10\n",
      "[1, 6, 7, 10, 1, 0, 10, 12, 7, 8, 9, 23, 45, 100]\n",
      "[1, 6, 7, 10, 1, 0, 10, 12, 7, 8, 9, 23, 45, 100]\n",
      "[1, 6, 7, 10, 1, 0, 10, 12, 7, 8, 9, 23, 45, 100]\n",
      "[1, 6, 7, 1, 10, 0, 10, 12, 7, 8, 9, 23, 45, 100]\n",
      "[1, 6, 7, 1, 0, 10, 10, 12, 7, 8, 9, 23, 45, 100]\n",
      "[1, 6, 7, 1, 0, 10, 10, 12, 7, 8, 9, 23, 45, 100]\n",
      "[1, 6, 7, 1, 0, 10, 10, 12, 7, 8, 9, 23, 45, 100]\n",
      "[1, 6, 7, 1, 0, 10, 10, 7, 12, 8, 9, 23, 45, 100]\n",
      "[1, 6, 7, 1, 0, 10, 10, 7, 8, 12, 9, 23, 45, 100]\n",
      "[1, 6, 7, 1, 0, 10, 10, 7, 8, 9, 12, 23, 45, 100]\n",
      "jumlah iterasi - 9\n",
      "[1, 6, 7, 1, 0, 10, 10, 7, 8, 9, 12, 23, 45, 100]\n",
      "[1, 6, 7, 1, 0, 10, 10, 7, 8, 9, 12, 23, 45, 100]\n",
      "[1, 6, 1, 7, 0, 10, 10, 7, 8, 9, 12, 23, 45, 100]\n",
      "[1, 6, 1, 0, 7, 10, 10, 7, 8, 9, 12, 23, 45, 100]\n",
      "[1, 6, 1, 0, 7, 10, 10, 7, 8, 9, 12, 23, 45, 100]\n",
      "[1, 6, 1, 0, 7, 10, 10, 7, 8, 9, 12, 23, 45, 100]\n",
      "[1, 6, 1, 0, 7, 10, 7, 10, 8, 9, 12, 23, 45, 100]\n",
      "[1, 6, 1, 0, 7, 10, 7, 8, 10, 9, 12, 23, 45, 100]\n",
      "[1, 6, 1, 0, 7, 10, 7, 8, 9, 10, 12, 23, 45, 100]\n",
      "jumlah iterasi - 8\n",
      "[1, 6, 1, 0, 7, 10, 7, 8, 9, 10, 12, 23, 45, 100]\n",
      "[1, 1, 6, 0, 7, 10, 7, 8, 9, 10, 12, 23, 45, 100]\n",
      "[1, 1, 0, 6, 7, 10, 7, 8, 9, 10, 12, 23, 45, 100]\n",
      "[1, 1, 0, 6, 7, 10, 7, 8, 9, 10, 12, 23, 45, 100]\n",
      "[1, 1, 0, 6, 7, 10, 7, 8, 9, 10, 12, 23, 45, 100]\n",
      "[1, 1, 0, 6, 7, 7, 10, 8, 9, 10, 12, 23, 45, 100]\n",
      "[1, 1, 0, 6, 7, 7, 8, 10, 9, 10, 12, 23, 45, 100]\n",
      "[1, 1, 0, 6, 7, 7, 8, 9, 10, 10, 12, 23, 45, 100]\n",
      "jumlah iterasi - 7\n",
      "[1, 1, 0, 6, 7, 7, 8, 9, 10, 10, 12, 23, 45, 100]\n",
      "[1, 0, 1, 6, 7, 7, 8, 9, 10, 10, 12, 23, 45, 100]\n",
      "[1, 0, 1, 6, 7, 7, 8, 9, 10, 10, 12, 23, 45, 100]\n",
      "[1, 0, 1, 6, 7, 7, 8, 9, 10, 10, 12, 23, 45, 100]\n",
      "[1, 0, 1, 6, 7, 7, 8, 9, 10, 10, 12, 23, 45, 100]\n",
      "[1, 0, 1, 6, 7, 7, 8, 9, 10, 10, 12, 23, 45, 100]\n",
      "[1, 0, 1, 6, 7, 7, 8, 9, 10, 10, 12, 23, 45, 100]\n",
      "jumlah iterasi - 6\n",
      "[0, 1, 1, 6, 7, 7, 8, 9, 10, 10, 12, 23, 45, 100]\n",
      "[0, 1, 1, 6, 7, 7, 8, 9, 10, 10, 12, 23, 45, 100]\n",
      "[0, 1, 1, 6, 7, 7, 8, 9, 10, 10, 12, 23, 45, 100]\n",
      "[0, 1, 1, 6, 7, 7, 8, 9, 10, 10, 12, 23, 45, 100]\n",
      "[0, 1, 1, 6, 7, 7, 8, 9, 10, 10, 12, 23, 45, 100]\n",
      "[0, 1, 1, 6, 7, 7, 8, 9, 10, 10, 12, 23, 45, 100]\n",
      "jumlah iterasi - 5\n",
      "[0, 1, 1, 6, 7, 7, 8, 9, 10, 10, 12, 23, 45, 100]\n",
      "[0, 1, 1, 6, 7, 7, 8, 9, 10, 10, 12, 23, 45, 100]\n",
      "[0, 1, 1, 6, 7, 7, 8, 9, 10, 10, 12, 23, 45, 100]\n",
      "[0, 1, 1, 6, 7, 7, 8, 9, 10, 10, 12, 23, 45, 100]\n",
      "[0, 1, 1, 6, 7, 7, 8, 9, 10, 10, 12, 23, 45, 100]\n",
      "jumlah iterasi - 4\n",
      "[0, 1, 1, 6, 7, 7, 8, 9, 10, 10, 12, 23, 45, 100]\n",
      "[0, 1, 1, 6, 7, 7, 8, 9, 10, 10, 12, 23, 45, 100]\n",
      "[0, 1, 1, 6, 7, 7, 8, 9, 10, 10, 12, 23, 45, 100]\n",
      "[0, 1, 1, 6, 7, 7, 8, 9, 10, 10, 12, 23, 45, 100]\n",
      "jumlah iterasi - 3\n",
      "[0, 1, 1, 6, 7, 7, 8, 9, 10, 10, 12, 23, 45, 100]\n",
      "[0, 1, 1, 6, 7, 7, 8, 9, 10, 10, 12, 23, 45, 100]\n",
      "[0, 1, 1, 6, 7, 7, 8, 9, 10, 10, 12, 23, 45, 100]\n",
      "jumlah iterasi - 2\n",
      "[0, 1, 1, 6, 7, 7, 8, 9, 10, 10, 12, 23, 45, 100]\n",
      "[0, 1, 1, 6, 7, 7, 8, 9, 10, 10, 12, 23, 45, 100]\n",
      "jumlah iterasi - 1\n",
      "[0, 1, 1, 6, 7, 7, 8, 9, 10, 10, 12, 23, 45, 100]\n",
      "data terurut =  [0, 1, 1, 6, 7, 7, 8, 9, 10, 10, 12, 23, 45, 100]\n"
     ]
    }
   ],
   "source": [
    "n=4\n",
    "a=[10,6,7,1,10,12,100,1,0,23,45,7,8,9]\n",
    "for i in range(len(a)-1,0,-1): #(awal, akhir, interval(=-1))\n",
    "    print(\"jumlah iterasi -\",i)\n",
    "    for j in range(i):\n",
    "        if a[j]>a[j+1]:\n",
    "            a[j],a[j+1]=a[j+1],a[j]\n",
    "        print(a)\n",
    "print(\"data terurut = \",a)"
   ]
  },
  {
   "cell_type": "code",
   "execution_count": 28,
   "id": "9217aa4e",
   "metadata": {},
   "outputs": [
    {
     "name": "stdout",
     "output_type": "stream",
     "text": [
      "jumlah iterasi - 3\n",
      "1 = [6, 10, 7, 1]\n",
      "2 = [6, 7, 10, 1]\n",
      "3 = [6, 7, 1, 10]\n",
      "jumlah iterasi - 2\n",
      "1 = [6, 7, 1, 10]\n",
      "2 = [6, 1, 7, 10]\n",
      "jumlah iterasi - 1\n",
      "1 = [1, 6, 7, 10]\n",
      "data terurut =  [1, 6, 7, 10]\n"
     ]
    }
   ],
   "source": [
    "n=4\n",
    "a=[10,6,7,1]\n",
    "for i in range(len(a)-1,0,-1): #(awal, akhir, interval(=-1))\n",
    "    print(\"jumlah iterasi -\",i)\n",
    "    for j in range(i):\n",
    "        if a[j]>a[j+1]:\n",
    "            a[j],a[j+1]=a[j+1],a[j]\n",
    "        print(j+1,\"=\",a)\n",
    "print(\"data terurut = \",a)"
   ]
  },
  {
   "cell_type": "code",
   "execution_count": null,
   "id": "15596e04",
   "metadata": {},
   "outputs": [],
   "source": []
  }
 ],
 "metadata": {
  "kernelspec": {
   "display_name": "Python 3",
   "language": "python",
   "name": "python3"
  },
  "language_info": {
   "codemirror_mode": {
    "name": "ipython",
    "version": 3
   },
   "file_extension": ".py",
   "mimetype": "text/x-python",
   "name": "python",
   "nbconvert_exporter": "python",
   "pygments_lexer": "ipython3",
   "version": "3.8.8"
  }
 },
 "nbformat": 4,
 "nbformat_minor": 5
}
