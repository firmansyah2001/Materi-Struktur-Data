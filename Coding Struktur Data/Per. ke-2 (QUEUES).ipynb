{
 "cells": [
  {
   "cell_type": "markdown",
   "id": "a78e7ae5",
   "metadata": {},
   "source": [
    "# Pertemuan Ke-2 QUEUES"
   ]
  },
  {
   "cell_type": "code",
   "execution_count": 1,
   "id": "97242435",
   "metadata": {},
   "outputs": [],
   "source": [
    "# CODE MEMULAI SYNTAX\n",
    "\n",
    "def createQueue():\n",
    "    q=[]\n",
    "    return(q)\n",
    "def enqueue(q,data):\n",
    "    q.insert(0,data)\n",
    "    return(q)\n",
    "def dequeue(q):\n",
    "    data=q.pop()\n",
    "    return(data)\n",
    "def isEmpty(q):\n",
    "    return(q==[])\n",
    "def size(q):\n",
    "    return(len(q))"
   ]
  },
  {
   "cell_type": "code",
   "execution_count": 2,
   "id": "f2c39253",
   "metadata": {},
   "outputs": [],
   "source": [
    "q=createQueue()"
   ]
  },
  {
   "cell_type": "code",
   "execution_count": 3,
   "id": "34d6884f",
   "metadata": {},
   "outputs": [
    {
     "name": "stdout",
     "output_type": "stream",
     "text": [
      "['Ganteng', 'Firmansyah', 'Bagus', 'Ari']\n"
     ]
    }
   ],
   "source": [
    "enqueue(q,\"Ari\")\n",
    "enqueue(q,\"Bagus\")\n",
    "enqueue(q,\"Firmansyah\")\n",
    "enqueue(q,\"Ganteng\")\n",
    "print(q)"
   ]
  },
  {
   "cell_type": "code",
   "execution_count": 4,
   "id": "fd67915e",
   "metadata": {},
   "outputs": [
    {
     "name": "stdout",
     "output_type": "stream",
     "text": [
      "['Ganteng', 'Firmansyah', 'Bagus']\n",
      "Ari\n"
     ]
    }
   ],
   "source": [
    "temp=dequeue(q)\n",
    "print(q)\n",
    "print(temp)"
   ]
  },
  {
   "cell_type": "code",
   "execution_count": 5,
   "id": "b9149426",
   "metadata": {},
   "outputs": [
    {
     "name": "stdout",
     "output_type": "stream",
     "text": [
      "['Bagus', 'Ganteng', 'Firmansyah']\n"
     ]
    }
   ],
   "source": [
    "enqueue(q,dequeue(q))\n",
    "print(q)"
   ]
  },
  {
   "cell_type": "code",
   "execution_count": 6,
   "id": "ee309363",
   "metadata": {},
   "outputs": [
    {
     "name": "stdout",
     "output_type": "stream",
     "text": [
      "Firmansyah ['Bagus', 'Ganteng']\n"
     ]
    }
   ],
   "source": [
    "a=dequeue(q)\n",
    "print(a,q)"
   ]
  },
  {
   "cell_type": "code",
   "execution_count": 7,
   "id": "64335d1d",
   "metadata": {},
   "outputs": [
    {
     "data": {
      "text/plain": [
       "['Baru', 'Bagus', 'Ganteng']"
      ]
     },
     "execution_count": 7,
     "metadata": {},
     "output_type": "execute_result"
    }
   ],
   "source": [
    "enqueue(q,\"Baru\")"
   ]
  },
  {
   "cell_type": "code",
   "execution_count": 9,
   "id": "722858a2",
   "metadata": {},
   "outputs": [
    {
     "name": "stdout",
     "output_type": "stream",
     "text": [
      "False\n",
      "3\n"
     ]
    }
   ],
   "source": [
    "print(isEmpty(q))\n",
    "print(size(q))"
   ]
  },
  {
   "cell_type": "code",
   "execution_count": 15,
   "id": "74f6833e",
   "metadata": {},
   "outputs": [],
   "source": [
    "# CODE ULAR NAGA\n",
    "\n",
    "def createQueue():\n",
    "    q=[]\n",
    "    return(q)\n",
    "def enqueue(q,data):\n",
    "    q.insert(0,data)\n",
    "    return(q)\n",
    "def dequeue(q):\n",
    "    data=q.pop()\n",
    "    return(data)\n",
    "def isEmpty(q):\n",
    "    return(q==[])\n",
    "def size(q):\n",
    "    return(len(q))"
   ]
  },
  {
   "cell_type": "code",
   "execution_count": 17,
   "id": "e6f4709b",
   "metadata": {},
   "outputs": [],
   "source": [
    "def ularnaga(nama,hitungan):\n",
    "    gamequeue=createQueue()\n",
    "    for namaanak in nama:\n",
    "        enqueue(gamequeue,namaanak)\n",
    "    print(\"peserta Permainan =\",gamequeue)\n",
    "    while size(gamequeue)>1:\n",
    "        for i in range(hitungan):\n",
    "            enqueue(gamequeue, dequeue(gamequeue))\n",
    "            print(\"hitungan ke-\",i,\"=\",gamequeue)\n",
    "        dequeue(gamequeue)\n",
    "        print(\"Peserta Permainan=\",gamequeue)\n",
    "    return dequeue(gamequeue)"
   ]
  },
  {
   "cell_type": "code",
   "execution_count": 18,
   "id": "30bf1f94",
   "metadata": {},
   "outputs": [
    {
     "name": "stdout",
     "output_type": "stream",
     "text": [
      "peserta Permainan = ['Salma', 'Sinta', 'Dinda', 'Firmansyah', 'Bagus', 'Ari']\n",
      "hitungan ke- 0 = ['Ari', 'Salma', 'Sinta', 'Dinda', 'Firmansyah', 'Bagus']\n",
      "hitungan ke- 1 = ['Bagus', 'Ari', 'Salma', 'Sinta', 'Dinda', 'Firmansyah']\n",
      "Peserta Permainan= ['Bagus', 'Ari', 'Salma', 'Sinta', 'Dinda']\n",
      "hitungan ke- 0 = ['Dinda', 'Bagus', 'Ari', 'Salma', 'Sinta']\n",
      "hitungan ke- 1 = ['Sinta', 'Dinda', 'Bagus', 'Ari', 'Salma']\n",
      "Peserta Permainan= ['Sinta', 'Dinda', 'Bagus', 'Ari']\n",
      "hitungan ke- 0 = ['Ari', 'Sinta', 'Dinda', 'Bagus']\n",
      "hitungan ke- 1 = ['Bagus', 'Ari', 'Sinta', 'Dinda']\n",
      "Peserta Permainan= ['Bagus', 'Ari', 'Sinta']\n",
      "hitungan ke- 0 = ['Sinta', 'Bagus', 'Ari']\n",
      "hitungan ke- 1 = ['Ari', 'Sinta', 'Bagus']\n",
      "Peserta Permainan= ['Ari', 'Sinta']\n",
      "hitungan ke- 0 = ['Sinta', 'Ari']\n",
      "hitungan ke- 1 = ['Ari', 'Sinta']\n",
      "Peserta Permainan= ['Ari']\n"
     ]
    },
    {
     "data": {
      "text/plain": [
       "'Ari'"
      ]
     },
     "execution_count": 18,
     "metadata": {},
     "output_type": "execute_result"
    }
   ],
   "source": [
    "ularnaga([\"Ari\",\"Bagus\",\"Firmansyah\",\"Dinda\",\"Sinta\",\"Salma\"],2)"
   ]
  },
  {
   "cell_type": "code",
   "execution_count": 19,
   "id": "7eb50dcf",
   "metadata": {},
   "outputs": [],
   "source": [
    "# CODE SCHEDULING\n",
    "\n",
    "def inputtask(numoftask):\n",
    "    task={}\n",
    "    for i in range(numoftask):\n",
    "        nama=input(\"nama task =\")\n",
    "        waktu=int(input(\"waktu task = \"))\n",
    "        task[nama]=[waktu,0]\n",
    "    return task"
   ]
  },
  {
   "cell_type": "code",
   "execution_count": 20,
   "id": "fc831929",
   "metadata": {},
   "outputs": [
    {
     "name": "stdout",
     "output_type": "stream",
     "text": [
      "nama task =A\n",
      "waktu task = 5\n",
      "nama task =B\n",
      "waktu task = 4\n",
      "nama task =C\n",
      "waktu task = 2\n"
     ]
    }
   ],
   "source": [
    "task=inputtask(3)"
   ]
  },
  {
   "cell_type": "code",
   "execution_count": 21,
   "id": "d922dcb3",
   "metadata": {},
   "outputs": [
    {
     "name": "stdout",
     "output_type": "stream",
     "text": [
      "{'A': [5, 0], 'B': [4, 0], 'C': [2, 0]}\n"
     ]
    }
   ],
   "source": [
    "print(task)"
   ]
  },
  {
   "cell_type": "code",
   "execution_count": null,
   "id": "a8fe8c28",
   "metadata": {},
   "outputs": [],
   "source": []
  }
 ],
 "metadata": {
  "kernelspec": {
   "display_name": "Python 3",
   "language": "python",
   "name": "python3"
  },
  "language_info": {
   "codemirror_mode": {
    "name": "ipython",
    "version": 3
   },
   "file_extension": ".py",
   "mimetype": "text/x-python",
   "name": "python",
   "nbconvert_exporter": "python",
   "pygments_lexer": "ipython3",
   "version": "3.8.8"
  }
 },
 "nbformat": 4,
 "nbformat_minor": 5
}
